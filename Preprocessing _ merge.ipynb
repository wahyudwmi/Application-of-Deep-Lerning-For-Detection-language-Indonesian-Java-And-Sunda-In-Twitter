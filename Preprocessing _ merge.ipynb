{
 "cells": [
  {
   "cell_type": "code",
   "execution_count": 1,
   "metadata": {
    "colab": {
     "base_uri": "https://localhost:8080/",
     "height": 292
    },
    "colab_type": "code",
    "id": "jAujRvF3sspC",
    "outputId": "a97880dc-15b0-42c1-cfca-722169dcb82e"
   },
   "outputs": [],
   "source": [
    "#!pip install textsearch\n",
    "#import nltk\n",
    "#import contractions\n",
    "#import inflect\n",
    "#from bs4 import BeautifulSoup\n",
    "#from nltk import word_tokenize, sent_tokenize\n",
    "#from nltk.corpus import stopwords\n",
    "#from textsearch import TextSearch\n",
    "\n",
    "import pandas as pd\n",
    "import re, string, unicodedata\n",
    "from bs4 import BeautifulSoup"
   ]
  },
  {
   "cell_type": "code",
   "execution_count": 2,
   "metadata": {
    "colab": {},
    "colab_type": "code",
    "id": "ZOic6FFbCgjc"
   },
   "outputs": [],
   "source": [
    "def strip_html(text):\n",
    "    soup = BeautifulSoup(text, \"html.parser\")\n",
    "    return soup.get_text()\n",
    "\n",
    "def remove_between_square_brackets(text):\n",
    "    return re.sub('\\[[^]]*\\]', '', text)\n",
    "\n",
    "def denoise_text(text):\n",
    "    text = strip_html(text)\n",
    "    text = remove_between_square_brackets(text)\n",
    "    return text\n",
    "\n",
    "def cleaning(str):\n",
    "    #remove non-ascii\n",
    "    str = unicodedata.normalize('NFKD', str).encode('ascii', 'ignore').decode('utf-8-sig', 'ignore')\n",
    "    str = re.sub(\"b'|b\\\"\",'',str)\n",
    "    #remove URLs\n",
    "    str = re.sub(r'(?i)\\b((?:https?://|www\\d{0,3}[.]|[a-z0-9.\\-]+[.][a-z]{2,4}/)(?:[^\\s()<>]+|\\(([^\\s()<>]+|(\\([^\\s()<>]+\\)))*\\))+(?:\\(([^\\s()<>]+|(\\([^\\s()<>]+\\)))*\\)|[^\\s`!()\\[\\]{};:\\'\".,<>?«»“”‘’]))', '', str)\n",
    "    #remove punctuations\n",
    "    str = re.sub(r'[^\\w]|_',' ',str)\n",
    "    #remove_laugh\n",
    "    str = re.sub(r\"\\b(?:(h|a|e)*(?:(ha|he|hue))+h?|(?:l+o+)+l+)|(?:(w|k)*(?:wk)+(w?|k?))\\b\", ' ', str)\n",
    "    #remove digit from string\n",
    "    str = re.sub(\"\\S*\\d\\S*\", \"\", str).strip()\n",
    "    #remove digit or numbers\n",
    "    str = re.sub(r\"\\b\\d+\\b\", \" \", str)\n",
    "    #remove single character\n",
    "    str = re.sub(r\"\\s+[a-zA-Z]\\s+\", \" \", str) \n",
    "    #remove string\n",
    " #   str = re.sub('cc|nl|xa|xb|nhttps|nlink|nahy|admin|solopos|com', '', str)\n",
    "    #remove_repeated_character\n",
    "    str = re.sub(r'(.)\\1{2,}', r'\\1', str)\n",
    "    #remove one character\n",
    "    str = re.sub(r\"\\b[a-zA-Z]\\b\", \"\", str)\n",
    "    #Remove additional white spaces\n",
    "    str = re.sub('[\\s]+', ' ', str)\n",
    "    #to lowercase\n",
    "    str = str.lower()\n",
    "    \n",
    "    return str\n",
    "\n",
    "def removeTwitterSymbols(str):\n",
    "    #remove RT\n",
    "    str = re.sub('RT', '', str)\n",
    "    # hashtag\n",
    "    str = re.sub(r\"(?:\\#+[\\w_]+[\\w\\'_\\-]*[\\w_]+)\", \" \", str)\n",
    "    #remove @username\n",
    "    str = re.sub('@[^\\s]+','',str)\n",
    "     # mention\n",
    "    str = re.sub(r'(?:@[\\w_]+)', ' ', str)\n",
    "\n",
    "    \n",
    "    return str\n",
    "    \n",
    "def preprocessing(str):\n",
    "    str = removeTwitterSymbols(str)\n",
    "    str = denoise_text(str)\n",
    "    str = cleaning(str)\n",
    "    \n",
    "    return str"
   ]
  },
  {
   "cell_type": "code",
   "execution_count": 11,
   "metadata": {
    "colab": {},
    "colab_type": "code",
    "id": "I3zLjaNJsiC4"
   },
   "outputs": [],
   "source": [
    "def applyPreprocessing(file): \n",
    "    df = pd.read_excel(file)\n",
    "    df['cleanText'] = df['text'].apply(preprocessing)\n",
    "    df.assign(cleanText=df['cleanText'])\n",
    "    label = file[:-5]\n",
    "    df1 = df.assign(label=label)\n",
    "    df1.dropna()\n",
    "    writer = pd.ExcelWriter('%s-clean.xlsx'%(label)) #save to excel\n",
    "    df1.to_excel(writer, 'Sheet1')\n",
    "    writer.save()\n",
    "\n",
    "\n",
    "file = 'Indo.xlsx'\n",
    "file1 = 'Jawa.xlsx'\n",
    "file2 = 'Sunda.xlsx'\n",
    "applyPreprocessing(\"jawa.xlsx\")"
   ]
  },
  {
   "cell_type": "code",
   "execution_count": 4,
   "metadata": {
    "colab": {
     "base_uri": "https://localhost:8080/",
     "height": 122
    },
    "colab_type": "code",
    "id": "IC318a0ZV0In",
    "outputId": "bb300cb8-2ebf-4c51-999b-78a5b48acfdf"
   },
   "outputs": [],
   "source": [
    "import xlsxwriter"
   ]
  },
  {
   "cell_type": "code",
   "execution_count": 9,
   "metadata": {
    "colab": {},
    "colab_type": "code",
    "id": "UcoLqNfZPwCW"
   },
   "outputs": [],
   "source": [
    "#merge | menggabungkan seluruh data to one file excel\n",
    "import glob\n",
    "import pandas as pd\n",
    "\n",
    "all_data = pd.DataFrame()\n",
    "for f in glob.glob(\"data stabil/*.xlsx\"): #perulangan untuk membuat dokumen baru berisikan semua data yang telah dipreprocessing\n",
    "      df = pd.read_excel(f) #membaca file semua file yg dilakukan dengan perulangan\n",
    "      df_new = df[['cleanText','label']] #membuat object baru berisikan data df\n",
    "      all_data = all_data.append(df_new,ignore_index=True) #menggabungkan data object baru\n",
    "    \n",
    "writer = pd.ExcelWriter('indo-jawa-sunda stabil.xlsx', engine='xlsxwriter')\n",
    "# Write your DataFrame to a file     \n",
    "all_data.to_excel(writer, 'Sheet1')\n",
    "# Save the result \n",
    "writer.save()  "
   ]
  },
  {
   "cell_type": "code",
   "execution_count": null,
   "metadata": {},
   "outputs": [],
   "source": [
    "#sastrawi stopwords data\n",
    "\n",
    "import Sastrawi\n",
    "\n",
    "import os\n",
    "\n",
    "from Sastrawi.StopWordRemover.StopWordRemoverFactory import StopWordRemoverFactory, StopWordRemover, ArrayDictionary\n",
    "from Sastrawi.Stemmer.StemmerFactory import StemmerFactory\n",
    "\n",
    "\n",
    "def kata():\n",
    "    dictionaryFile = 'google-10000-english.txt'\n",
    "    if not os.path.isfile(dictionaryFile):\n",
    "        raise RuntimeError('Dictionary file is missing. It seems that your installation is corrupted.')\n",
    "\n",
    "    dictionaryContent = ''\n",
    "    with open(dictionaryFile, 'r') as f:\n",
    "        dictionaryContent = f.read()\n",
    "\n",
    "    return dictionaryContent.split('\\n')\n",
    "\n",
    "kata = kata()\n",
    "\n",
    "def hapus(file):\n",
    "    #file = pd.read_excel(file)\n",
    "    katatwitter = ['ahy','sby','xef','followers','follower','unfollower','unfollowers', 'unfollowed', 'xcb', 'xca', 'xcc', 'xba', 'xbb','xbe', 'xbd', 'xda', 'twit']\n",
    "    stop_factory = StopWordRemoverFactory().get_stop_words()\n",
    "    more_stopword = StemmerFactory().get_words_from_file()\n",
    "    #data = stop_factory + kata + katatwitter\n",
    "    data = stop_factory + more_stopword + kata + katatwitter\n",
    "    #data = kata + katatiwtter\n",
    "    dictionary = ArrayDictionary(data)\n",
    "    str = StopWordRemover(dictionary)\n",
    "    file = str.remove(file)\n",
    "    return file\n",
    "\n",
    "def try_model(filee):\n",
    "    df11 = pd.read_excel(filee)\n",
    "    df11['clean'] = df11['cleanText'].apply(hapus)\n",
    "    df11.assign(text = df11['clean'])\n",
    "    writer = pd.ExcelWriter('Sunda-stabil.xlsx')\n",
    "    df11.to_excel(writer, 'Sheet1')\n",
    "    writer.save()\n",
    "    "
   ]
  },
  {
   "cell_type": "code",
   "execution_count": null,
   "metadata": {},
   "outputs": [],
   "source": [
    "#try_model('Jawa-clean.xlsx')\n",
    "try_model('Data new dan old digabung/Sunda Gabung.xlsx')"
   ]
  }
 ],
 "metadata": {
  "colab": {
   "collapsed_sections": [],
   "name": "Labeling.ipynb",
   "provenance": []
  },
  "kernelspec": {
   "display_name": "Python 3",
   "language": "python",
   "name": "python3"
  },
  "language_info": {
   "codemirror_mode": {
    "name": "ipython",
    "version": 3
   },
   "file_extension": ".py",
   "mimetype": "text/x-python",
   "name": "python",
   "nbconvert_exporter": "python",
   "pygments_lexer": "ipython3",
   "version": "3.7.3"
  }
 },
 "nbformat": 4,
 "nbformat_minor": 1
}
