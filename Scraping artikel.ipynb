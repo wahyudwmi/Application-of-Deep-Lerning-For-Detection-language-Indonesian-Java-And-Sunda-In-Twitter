{
 "cells": [
  {
   "cell_type": "code",
   "execution_count": 4,
   "metadata": {
    "colab": {},
    "colab_type": "code",
    "id": "MjWK5ULBEuHe"
   },
   "outputs": [],
   "source": [
    "import newspaper\n",
    "from newspaper import Article "
   ]
  },
  {
   "cell_type": "code",
   "execution_count": 7,
   "metadata": {
    "colab": {},
    "colab_type": "code",
    "id": "BmZ2c0LCEjVh"
   },
   "outputs": [],
   "source": [
    "urls = [\"https://www.solopos.com/kanoman-kangelan-nyinau-aksara-jawa-974907\",\n",
    "        \"https://www.solopos.com/ayo-sinau-aksara-jawa-974905\",\n",
    "        \"https://www.solopos.com/dongeng-ngraketake-kluwarga-973465\",\n",
    "        \"https://www.solopos.com/nasibe-dongeng-ing-jaman-milenial-973462\",\n",
    "        \"https://www.solopos.com/tembang-jawa-ing-sekolahan-971925\",\n",
    "        \"https://www.solopos.com/nguri-uri-tembang-macapat-971920\",\n",
    "        \"https://www.solopos.com/padha-padha-mulangake-kabecikan-970217\",\n",
    "        \"https://www.solopos.com/guyub-rukune-budaya-jawa-tionghoa-970215\",\n",
    "        \"https://www.solopos.com/nut-jaman-pakem-kerep-ditinggal-968751\",\n",
    "        \"https://www.solopos.com/dhalang-ngudhal-piwulang-968749\",\n",
    "        \"https://www.solopos.com/mbabar-crita-bab-kekinian-967208\",\n",
    "        \"https://www.solopos.com/ayo-nonton-kethoprak-967206\",\n",
    "        \"https://www.solopos.com/basa-jawa-diolah-kanggo-lagu-metal-965701\",\n",
    "        \"https://www.solopos.com/kawula-mudha-duwe-cara-ngleluri-sastra-jawa-965699\",\n",
    "        \"https://www.solopos.com/geguritan-kesambet-964159\",\n",
    "        \"https://www.solopos.com/kitab-kuna-dadi-sumber-panaliten-964154\",\n",
    "        \"https://www.solopos.com/ngungak-naskah-kuna-ing-perpustakaan-964152\",\n",
    "        \"https://www.solopos.com/pangajab-seni-budaya-saya-ngrembaka-962630\",\n",
    "        \"https://www.solopos.com/seni-tradhisi-gumebyar-mapag-taun-anyar-962627\",\n",
    "        \"https://www.solopos.com/tari-tradhisi-isih-akeh-kang-karem-961410\",\n",
    "        \"https://www.solopos.com/gumbregut-nggladhi-tari-tradhisi-961405\",\n",
    "        \"https://www.solopos.com/kaajab-ana-dana-kanggo-nguripi-budaya-961197\",\n",
    "        \"https://www.solopos.com/strategi-kabudayan-kanggo-majuning-budaya-961188\",\n",
    "        \"https://www.solopos.com/nguri-uri-budaya-guyup-rukun-lan-tepa-slira-958675\",\n",
    "        \"https://www.solopos.com/kongres-kebudayaan-indonesia-2018-ngasilake-strategi-kabudayan-958671\",\n",
    "        \"https://www.solopos.com/kanoman-duwe-cara-ngleluri-seni-tradhisi-957259\",\n",
    "        \"https://www.solopos.com/geguritan-duk-ing-uni-955876\",\n",
    "        \"https://www.solopos.com/tradhisi-jawa-ngemu-werdi-955873\",\n",
    "        \"https://www.solopos.com/budaya-jawa-lan-jejibahan-njaga-alam-955870\",\n",
    "        \"https://www.solopos.com/wayang-lan-tembang-ngemu-tuntunan-urip-954301\",\n",
    "        \"https://www.solopos.com/budaya-tradhisi-mbangun-budi-pakarti-954299\",\n",
    "        \"https://www.solopos.com/geguritan-kidung-jawi-952971\",\n",
    "        \"https://www.solopos.com/ngungak-sujarahe-kongres-kebudayan-952961\",\n",
    "        \"https://www.solopos.com/kongres-kabudayan-bakal-diadani-desember-2018-952959\",\n",
    "        \"https://www.solopos.com/pantun-melayu-diusulke-marang-unesco-951355\",\n",
    "        \"https://www.solopos.com/tradhisi-sastra-lesan-ngemu-piwulang-luhur-951347\",\n",
    "        \"https://www.solopos.com/geguritan-kembang-setaman-949868\",\n",
    "        \"https://www.solopos.com/saman-center-bakal-kabangun-ing-gayo-lues-949859\",\n",
    "        \"https://www.solopos.com/kesengsem-endahe-tari-saman-949850\",\n",
    "        \"https://www.solopos.com/tas-noken-ing-jaman-modheren-948395\",\n",
    "        \"https://www.solopos.com/noken-lan-simbol-budaya-papua-948390\",\n",
    "        \"https://www.solopos.com/i-nyoman-mandra-kupiya-ngleluri-lukisan-klasik-bali-946716\",\n",
    "        \"https://www.solopos.com/ngungak-endahe-seni-lukis-klasik-bali-946711\",\n",
    "        \"https://www.solopos.com/ni-ketut-arini-ngupaya-tari-bali-lestari-945216\",\n",
    "        \"https://www.solopos.com/ngleluri-beksan-ageng-saka-bali-945211\",\n",
    "        \"https://www.solopos.com/geguritan-bab-prau-943682\",\n",
    "        \"https://www.solopos.com/pinisi-kalebu-daftar-warisan-kabudayan-ing-unesco-943678\",\n",
    "        \"https://www.solopos.com/prau-pinisi-kawentar-saindhenge-donya-943677\",\n",
    "        \"https://www.solopos.com/daeng-soetigna-lan-sumebare-angklung-ing-nuswantara-942292\",\n",
    "        \"https://www.solopos.com/ngungak-makna-lan-sujarahe-angklung-942288\",\n",
    "        \"https://www.solopos.com/pencak-silat-samsaya-kawentar-saindhenge-ndonya-940861\",\n",
    "        \"https://www.solopos.com/geguritan-ing-wangi-tempe-939760\",\n",
    "        \"https://www.solopos.com/carane-gawe-tempe-nut-jaman-kalakone-939751\",\n",
    "        \"https://www.solopos.com/tempe-pangan-warisan-leluhur-jawa-939750\",\n",
    "        \"https://www.solopos.com/sujarah-reyog-lan-piwulang-becik-938178\",\n",
    "        \"https://www.solopos.com/reyog-ponorogo-mratah-ing-njaban-rangkah-938175\",\n",
    "        \"https://www.solopos.com/batik-warisan-leluhur-tembang-sinom-936820\",\n",
    "        \"https://www.solopos.com/ngungak-sujarah-lan-werdine-bathik-936811\",\n",
    "        \"https://www.solopos.com/sinau-tata-cara-nggawe-keris-935663\",\n",
    "        \"https://www.solopos.com/geguritan-nyawang-geber-934467\",\n",
    "        \"https://www.solopos.com/sumarsam-maestro-gamelan-933126\",\n",
    "        \"https://www.solopos.com/solo-punjering-gamelan-kang-adiluhung-933117\",\n",
    "        \"https://www.solopos.com/geguritan-931398\",]"
   ]
  },
  {
   "cell_type": "code",
   "execution_count": 8,
   "metadata": {
    "colab": {},
    "colab_type": "code",
    "id": "GTUIr13sEkl_"
   },
   "outputs": [],
   "source": [
    "for url in urls:\n",
    "    article = Article(url)\n",
    "    article.download()\n",
    "    article.parse()\n",
    "    with open(\"jawa-solopos.com.txt\",\"a+\") as f:\n",
    "        txt = article.text\n",
    "        txt = txt.encode('ascii', 'ignore').decode(\"utf-8\")\n",
    "        f.write(txt + \"\\n\\n\")\n",
    "        f.close()"
   ]
  },
  {
   "cell_type": "code",
   "execution_count": null,
   "metadata": {},
   "outputs": [],
   "source": []
  }
 ],
 "metadata": {
  "colab": {
   "name": "Scraping artikel.ipynb",
   "provenance": []
  },
  "kernelspec": {
   "display_name": "Python 3",
   "language": "python",
   "name": "python3"
  },
  "language_info": {
   "codemirror_mode": {
    "name": "ipython",
    "version": 3
   },
   "file_extension": ".py",
   "mimetype": "text/x-python",
   "name": "python",
   "nbconvert_exporter": "python",
   "pygments_lexer": "ipython3",
   "version": "3.7.3"
  }
 },
 "nbformat": 4,
 "nbformat_minor": 1
}
